{
 "cells": [
  {
   "cell_type": "code",
   "execution_count": 36,
   "id": "bbbfcdf1-e8d2-4074-9714-7bfa1ffa4517",
   "metadata": {
    "tags": []
   },
   "outputs": [],
   "source": [
    "# import image module\n",
    "from IPython.display import Image\n"
   ]
  },
  {
   "cell_type": "markdown",
   "id": "4ea0946e-cbda-42f0-818b-fd65c8ad44a1",
   "metadata": {},
   "source": [
    "## Python Operators \n",
    "\n",
    "Python supports many types of operators. The table below lists Python operators from highest to lowest priority. With variables and operators, you can create expressions to solve real problems. In computer science, an expression is a combination of constants, variables, functions, and operators that can be calculated to get a value. Even if you don’t fully understand this, just remember: building expressions is very important in any programming language.\n",
    "\n",
    "### Common Python Operators\n",
    "\n",
    "| Operator                          | Meaning                               |\n",
    "| ---------------------------------- | ------------------------------------- |\n",
    "| `[]`, `[:]`                       | Index, slice (get part of a list)     |\n",
    "| `**`                              | Power (exponent)                      |\n",
    "| `~`, `+`, `-`                     | Bitwise NOT, positive, negative       |\n",
    "| `*`, `/`, `%`, `//`               | Multiply, divide, modulus, floor divide|\n",
    "| `+`, `-`                          | Add, subtract                         |\n",
    "| `>>`, ``, `>=`              | Less than or equal, less, greater, greater or equal |\n",
    "| `==`, `!=`                        | Equal, not equal                      |\n",
    "| `is`, `is not`                    | Identity operators (same object?)     |\n",
    "| `in`, `not in`                    | Membership operators (in a group?)    |\n",
    "| `not`, `or`, `and`                | Logical operators                     |\n",
    "| `=`, `+=`, `-=`, `*=`, `/=`, etc. | Assignment operators                  |\n",
    "\n",
    "**Note:** Operator priority means which operator is calculated first when there are several in one expression. If you are not sure about the order, use parentheses `()` to control it[9].\n",
    "\n",
    "---\n",
    "\n",
    "## Arithmetic Operators\n",
    "\n",
    "Python has many arithmetic operators, like add, subtract, multiply, and divide. There are also floor division (`//`), modulus (`%` for remainder), and power (`**`).\n",
    "\n",
    "**Examples:**"
   ]
  },
  {
   "cell_type": "code",
   "execution_count": 4,
   "id": "4d2270bc-6c10-4d51-830e-66e697239859",
   "metadata": {
    "tags": []
   },
   "outputs": [
    {
     "name": "stdout",
     "output_type": "stream",
     "text": [
      "333\n",
      "309\n",
      "3852\n",
      "26.75\n",
      "26\n",
      "9\n",
      "1196906950228928915420617322241\n"
     ]
    }
   ],
   "source": [
    "print(321 + 12)     # Add, result: 333\n",
    "print(321 - 12)     # Subtract, result: 309\n",
    "print(321 * 12)     # Multiply, result: 3852\n",
    "print(321 / 12)     # Divide, result: 26.75\n",
    "print(321 // 12)    # Floor division, result: 26\n",
    "print(321 % 12)     # Modulus, result: 9\n",
    "print(321 ** 12)    # Power, result: a big number"
   ]
  },
  {
   "cell_type": "markdown",
   "id": "6a18310e-4ea1-4f37-beb3-dff2103e78aa",
   "metadata": {},
   "source": [
    "- Multiplication and division are done before addition and subtraction, just like in math class. **(BODMAS)**\n",
    "- Power (`**`) is done before multiplication and division.\n",
    "- Use parentheses `()` to change the order if needed.\n",
    "\n",
    "**Examples:**"
   ]
  },
  {
   "cell_type": "code",
   "execution_count": 34,
   "id": "4d59410d-02a9-4a24-af63-d8daf9a07023",
   "metadata": {
    "tags": []
   },
   "outputs": [
    {
     "data": {
      "text/html": [
       "<img src=\"bodmas.png\" width=\"600\" height=\"600\"/>"
      ],
      "text/plain": [
       "<IPython.core.display.Image object>"
      ]
     },
     "execution_count": 34,
     "metadata": {},
     "output_type": "execute_result"
    }
   ],
   "source": [
    "\n",
    "# show bodmas image below\n",
    "Image(url=\"bodmas.png\", width=600, height=600)"
   ]
  },
  {
   "cell_type": "code",
   "execution_count": 20,
   "id": "9b79631e-8c4c-4461-8223-7c787a765f73",
   "metadata": {
    "tags": []
   },
   "outputs": [
    {
     "name": "stdout",
     "output_type": "stream",
     "text": [
      "17\n",
      "25\n",
      "125\n",
      "625\n"
     ]
    }
   ],
   "source": [
    "print(2 + 3 * 5)           # 17\n",
    "print((2 + 3) * 5)         # 25\n",
    "print((2 + 3) * 5 ** 2)    # 125\n",
    "print(((2 + 3) * 5) ** 2)  # 625"
   ]
  },
  {
   "cell_type": "markdown",
   "id": "15a954c5-22f6-42bd-8425-b07bdfde4a72",
   "metadata": {},
   "source": [
    "---\n",
    "\n",
    "## Assignment Operators\n",
    "\n",
    "Assignment operators assign values to variables. You can also combine them with arithmetic operators.\n",
    "\n",
    "**Examples:**"
   ]
  },
  {
   "cell_type": "code",
   "execution_count": 30,
   "id": "d8173aa5-9a1c-4e28-b8a8-4d23a0be39de",
   "metadata": {
    "tags": []
   },
   "outputs": [
    {
     "name": "stdout",
     "output_type": "stream",
     "text": [
      "195\n"
     ]
    }
   ],
   "source": [
    "a = 10\n",
    "b = 3\n",
    "a += b        # Same as: a = a + b\n",
    "a *= a + 2    # Same as: a = a * (a + 2)\n",
    "print(a)"
   ]
  },
  {
   "cell_type": "markdown",
   "id": "e44562f7-408e-4f8c-bcf9-d73f8e8a2e3e",
   "metadata": {},
   "source": [
    "- Assignment expressions themselves do not produce a value you can print.\n",
    "- Python 3.8 added the \"walrus operator\" `:=`, which lets you assign and use the value at the same time.\n",
    "\n",
    "**Example:**"
   ]
  },
  {
   "cell_type": "code",
   "execution_count": 38,
   "id": "d3af9309-2333-46ff-9acf-72c8a966e010",
   "metadata": {
    "tags": []
   },
   "outputs": [
    {
     "data": {
      "text/html": [
       "<img src=\"walrus.png\" width=\"600\" height=\"600\"/>"
      ],
      "text/plain": [
       "<IPython.core.display.Image object>"
      ]
     },
     "execution_count": 38,
     "metadata": {},
     "output_type": "execute_result"
    }
   ],
   "source": [
    "Image(url=\"walrus.png\", width=600, height=600)"
   ]
  },
  {
   "cell_type": "code",
   "execution_count": 32,
   "id": "81d64927-d0c7-4a92-a4c3-e07c15e8b7e8",
   "metadata": {
    "tags": []
   },
   "outputs": [
    {
     "name": "stdout",
     "output_type": "stream",
     "text": [
      "10\n",
      "10\n"
     ]
    }
   ],
   "source": [
    "print((a := 10))  # Outputs 10\n",
    "print(a)          # Outputs 10"
   ]
  },
  {
   "cell_type": "markdown",
   "id": "77df53e2-9cc5-40d6-875e-fe38d6d2507d",
   "metadata": {},
   "source": [
    "---\n",
    "\n",
    "## Comparison and Logical Operators\n",
    "\n",
    "- **Comparison operators**: `==`, `!=`, ``, `=`\n",
    "  - `==` means equal (use two equal signs, not one).\n",
    "  - `!=` means not equal.\n",
    "  - They return `True` or `False`.\n",
    "\n",
    "- **Logical operators**: `and`, `or`, `not`\n",
    "  - `and`: Both sides must be `True` for the result to be `True`.\n",
    "  - `or`: If at least one side is `True`, the result is `True`.\n",
    "  - `not`: Flips `True` to `False`, or `False` to `True`.\n",
    "\n",
    "**Examples:**"
   ]
  },
  {
   "cell_type": "code",
   "execution_count": 44,
   "id": "9ee4a721-f1fa-4f3b-8ca1-15c27f0ca4e3",
   "metadata": {
    "tags": []
   },
   "outputs": [
    {
     "name": "stdout",
     "output_type": "stream",
     "text": [
      "flag0 = True\n",
      "flag1 = True\n",
      "flag2 = False\n",
      "flag3 = False\n",
      "flag4 = True\n",
      "flag5 = False\n",
      "True\n",
      "False\n"
     ]
    }
   ],
   "source": [
    "flag0 = 1 == 1\n",
    "flag1 = 3 > 2\n",
    "flag2 = 2 < 1\n",
    "flag3 = flag1 and flag2\n",
    "flag4 = flag1 or flag2\n",
    "flag5 = not flag0\n",
    "print('flag0 =', flag0)     # flag0 = True\n",
    "print('flag1 =', flag1)     # flag1 = True\n",
    "print('flag2 =', flag2)     # flag2 = False\n",
    "print('flag3 =', flag3)     # flag3 = False\n",
    "print('flag4 =', flag4)     # flag4 = True\n",
    "print('flag5 =', flag5)     # flag5 = False\n",
    "print(flag1 and not flag2)  # True\n",
    "print(1 > 2 or 2 == 3)      # False\n"
   ]
  },
  {
   "cell_type": "code",
   "execution_count": null,
   "id": "d3c78bc0-06fb-4d5e-a101-846bf1b72298",
   "metadata": {},
   "outputs": [],
   "source": [
    "Image(url=\"truthtable.png\", width=600, height=600)"
   ]
  },
  {
   "cell_type": "markdown",
   "id": "fbb4f9cc-9a66-4ec9-a7da-2ee560d20d5f",
   "metadata": {},
   "source": [
    "- Comparison is done before assignment in expressions.\n",
    "\n",
    "---\n",
    "\n",
    "## Example Applications\n",
    "\n",
    "**1. Fahrenheit to Celsius:**"
   ]
  },
  {
   "cell_type": "code",
   "execution_count": null,
   "id": "5b748705-f72f-47ed-ac90-869031ce9ba6",
   "metadata": {},
   "outputs": [],
   "source": [
    "f = float(input('Enter Fahrenheit temperature: '))\n",
    "c = (f - 32) / 1.8\n",
    "print(f'{f:.1f} Fahrenheit = {c:.1f} Celsius')"
   ]
  },
  {
   "cell_type": "markdown",
   "id": "7c6d1f67-80eb-4926-a154-3598d8e8ffb4",
   "metadata": {},
   "source": [
    "- `input()` gets user input as a string.\n",
    "- `float()` converts it to a number.\n",
    "- `f'{f:.1f}'` formats the number to 1 decimal place.\n",
    "\n",
    "**2. Circle Perimeter and Area:**"
   ]
  },
  {
   "cell_type": "code",
   "execution_count": null,
   "id": "9b3c37cd-464e-44b5-a88e-164aadb952f8",
   "metadata": {},
   "outputs": [],
   "source": [
    "import math\n",
    "radius = float(input('Enter circle radius: '))\n",
    "perimeter = 2 * math.pi * radius\n",
    "area = math.pi * radius ** 2\n",
    "print(f'Perimeter: {perimeter:.2f}')\n",
    "print(f'Area: {area:.2f}')"
   ]
  },
  {
   "cell_type": "markdown",
   "id": "f97f8f84-1a95-4635-a515-b31d8ab428df",
   "metadata": {},
   "source": [
    "- `math.pi` gives the value of pi.\n",
    "\n",
    "**3. Leap Year Check:**"
   ]
  },
  {
   "cell_type": "code",
   "execution_count": 55,
   "id": "3581d461-c6e9-49e1-b291-6ebf847e3949",
   "metadata": {
    "tags": []
   },
   "outputs": [
    {
     "data": {
      "text/html": [
       "<img src=\"moonleap.png\" width=\"1000\" height=\"1000\"/>"
      ],
      "text/plain": [
       "<IPython.core.display.Image object>"
      ]
     },
     "execution_count": 55,
     "metadata": {},
     "output_type": "execute_result"
    }
   ],
   "source": [
    "Image(url=\"moonleap.png\", width=1000, height=1000)"
   ]
  },
  {
   "cell_type": "code",
   "execution_count": 47,
   "id": "5640c3ff-d6df-4357-b689-413d80b5750d",
   "metadata": {
    "tags": []
   },
   "outputs": [
    {
     "name": "stdin",
     "output_type": "stream",
     "text": [
      "Enter year:  3820\n"
     ]
    },
    {
     "name": "stdout",
     "output_type": "stream",
     "text": [
      "Leap year: True\n"
     ]
    }
   ],
   "source": [
    "year = int(input('Enter year: '))\n",
    "is_leap = year % 4 == 0 and year % 100 != 0 or year % 400 == 0\n",
    "print(f'Leap year: {is_leap}')"
   ]
  },
  {
   "cell_type": "markdown",
   "id": "aaaf31c9-5978-4c63-96f4-7e399930e3a3",
   "metadata": {},
   "source": [
    "- A leap year is divisible by 4 but not by 100, or divisible by 400.\n",
    "\n",
    "---\n",
    "\n",
    "## Summary\n",
    "\n",
    "- Operators are symbols that do calculations or actions with variables and values.\n",
    "- Expressions are combinations of variables, values, and operators that produce a result.\n",
    "- Knowing how to use operators and expressions is very important in programming[8][9].\n"
   ]
  },
  {
   "cell_type": "code",
   "execution_count": null,
   "id": "2adbc756-4e79-4b61-aca5-2a8fd9ddfaa4",
   "metadata": {},
   "outputs": [],
   "source": []
  }
 ],
 "metadata": {
  "kernelspec": {
   "display_name": "Python 3 (ipykernel)",
   "language": "python",
   "name": "python3"
  },
  "language_info": {
   "codemirror_mode": {
    "name": "ipython",
    "version": 3
   },
   "file_extension": ".py",
   "mimetype": "text/x-python",
   "name": "python",
   "nbconvert_exporter": "python",
   "pygments_lexer": "ipython3",
   "version": "3.11.7"
  }
 },
 "nbformat": 4,
 "nbformat_minor": 5
}
