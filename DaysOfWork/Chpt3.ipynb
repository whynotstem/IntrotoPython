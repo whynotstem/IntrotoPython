{
 "cells": [
  {
   "cell_type": "markdown",
   "id": "ace5f1d1-cf2e-4fd9-9452-a6aef3263064",
   "metadata": {
    "tags": []
   },
   "source": [
    "## Loop Structure\n",
    "\n",
    "When we write programs, we may encounter a scenario where we need to repeat a certain instruction or instructions. For example, we need to output \"hello, world\" on the screen every 1 second and continue to output it for one hour. The following code can complete this operation once. If we want to output it continuously for one hour, we need to write this code 3600 times. Are you willing to do this?"
   ]
  },
  {
   "cell_type": "code",
   "execution_count": 9,
   "id": "1e131322-4010-4590-9a4e-6677c100f917",
   "metadata": {
    "tags": []
   },
   "outputs": [
    {
     "name": "stdout",
     "output_type": "stream",
     "text": [
      "hello, world\n"
     ]
    }
   ],
   "source": [
    "import time\n",
    "\n",
    "print('hello, world')\n",
    "time.sleep(1)"
   ]
  },
  {
   "cell_type": "markdown",
   "id": "bf3abe91-8d01-455b-b1e3-aafd29c19011",
   "metadata": {
    "tags": []
   },
   "source": [
    "> **Description**: The `sleep` function of the Python built-in `time` module can realize the sleep of the program. The parameter `1` represents the number of seconds of sleep. You can use `int` or `float` types, for example, `0.05` represents `50` milliseconds. We will explain the knowledge about functions and modules in subsequent courses.\n",
    "\n",
    "To deal with the problems in the above scenario, we can use loop structures in Python programs. The so-called loop structure is a structure in the program that controls the repeated execution of one or more instructions. With such a structure, the code just now does not need to be written 3600 times, but written once and then put into the loop structure to repeat 3600 times. There are two ways to construct loop structures in Python language, one is the `for-in` loop, and the other is the `while` loop.\n",
    "\n",
    "### for-in loop\n",
    "\n",
    "If you know the number of times the loop is executed, we recommend using the `for-in` loop. For example, the scenario mentioned above where the loop is repeated 3,600 times can be implemented with the following code. Note that the code block controlled by the `for-in` loop is also constructed by indentation, which is the same as the method of constructing code blocks in the branch structure. The code block controlled by the `for-in` loop is called the loop body. Usually, the statements in the loop body will be executed repeatedly according to the loop settings."
   ]
  },
  {
   "cell_type": "code",
   "execution_count": 13,
   "id": "db1ebbac-e875-48f4-b41f-568c78c10943",
   "metadata": {
    "tags": []
   },
   "outputs": [
    {
     "name": "stdout",
     "output_type": "stream",
     "text": [
      "hello, world\n",
      "hello, world\n",
      "hello, world\n",
      "hello, world\n",
      "hello, world\n",
      "hello, world\n"
     ]
    },
    {
     "ename": "KeyboardInterrupt",
     "evalue": "",
     "output_type": "error",
     "traceback": [
      "\u001b[0;31m---------------------------------------------------------------------------\u001b[0m",
      "\u001b[0;31mKeyboardInterrupt\u001b[0m                         Traceback (most recent call last)",
      "Cell \u001b[0;32mIn[13], line 5\u001b[0m\n\u001b[1;32m      3\u001b[0m \u001b[38;5;28;01mfor\u001b[39;00m i \u001b[38;5;129;01min\u001b[39;00m \u001b[38;5;28mrange\u001b[39m(\u001b[38;5;241m3600\u001b[39m):\n\u001b[1;32m      4\u001b[0m     \u001b[38;5;28mprint\u001b[39m(\u001b[38;5;124m'\u001b[39m\u001b[38;5;124mhello, world\u001b[39m\u001b[38;5;124m'\u001b[39m)\n\u001b[0;32m----> 5\u001b[0m     time\u001b[38;5;241m.\u001b[39msleep(\u001b[38;5;241m1\u001b[39m)\n",
      "\u001b[0;31mKeyboardInterrupt\u001b[0m: "
     ]
    }
   ],
   "source": [
    "import time\n",
    "\n",
    "for i in range(3):\n",
    "    print('hello, world')\n",
    "    time.sleep(1)"
   ]
  },
  {
   "cell_type": "markdown",
   "id": "00a12ba4-4cca-439d-8d70-09e1d82af7fe",
   "metadata": {
    "tags": []
   },
   "source": [
    "It should be noted that the `range(3600)` in the above code can construct a range from `0` to `3599`. When we put such a range into the `for-in` loop, we can use the previous loop variable `i` to sequentially take out integers from `0` to `3599`, which will cause the statements in the `for-in` code block to repeat 3600 times. Of course, the usage of `range` is very flexible. The following list gives an example of using the `range` function:\n",
    "\n",
    "- `range(101)`: can be used to generate integers in the range of `0` to `100`. Note that `101` cannot be obtained.\n",
    "- `range(1, 101)`: can be used to generate integers in the range of `1` to `100`, which is equivalent to the left-closed and right-open setting, that is, `[1, 101)`.\n",
    "- `range(1, 101, 2)`: can be used to generate odd numbers from `1` to `100`, where `2` is the step size (span), that is, the value that increases each time, and `101` cannot be obtained.\n",
    "- `range(100, 0, -2)`: can be used to generate even numbers from `100` to `1`, where `-2` is the step size (span), that is, the value that decreases each time, and `0` cannot be obtained.\n",
    "\n",
    "You may have noticed that the output operation and the sleep operation in the above code do not use the loop variable `i`. For the `for-in` loop structure that does not require a loop variable, according to Python programming conventions, we usually name the loop variable `_`. The modified code is as follows. Although the result does not change much, writing it this way makes you look more professional and instantly more impressive."
   ]
  },
  {
   "cell_type": "code",
   "execution_count": null,
   "id": "9fd5dcd7-99dc-4e8f-9a81-44e0f6399a36",
   "metadata": {
    "tags": []
   },
   "outputs": [],
   "source": [
    "import time\n",
    "\n",
    "for _ in range(3600):\n",
    "    print('hello, world')\n",
    "    time.sleep(1)"
   ]
  },
  {
   "cell_type": "markdown",
   "id": "3cbbe81f-0573-4fff-b165-fd21df0c88a0",
   "metadata": {
    "tags": []
   },
   "source": [
    "The above code will take one hour to execute. If you want to end the program early, you can click the Kernel and interrupt Kernel in Jupyter in top right menu, as shown in the figure below. If you run the code in the command prompt or terminal, you can use the key combination `ctrl+c` to terminate the program.\n",
    "\n",
    "<img src=\"res/day06/terminate_program.png\" style=\"zoom:40%;\">\n",
    "\n",
    "Next, we use the for-in loop to sum the integers from 1 to 100, that is, $\\small{\\sum_{n=1}^{100}{n}}$."
   ]
  },
  {
   "cell_type": "code",
   "execution_count": 47,
   "id": "2cf5819a-daca-4c68-b32e-380d8b072635",
   "metadata": {
    "tags": []
   },
   "outputs": [
    {
     "name": "stdout",
     "output_type": "stream",
     "text": [
      "5050\n"
     ]
    }
   ],
   "source": [
    "total = 0\n",
    "for i in range(1, 101):\n",
    "    total += i\n",
    "print(total)"
   ]
  },
  {
   "cell_type": "markdown",
   "id": "a7cbfb64-6a00-4414-8d2d-cea66420acc7",
   "metadata": {
    "tags": []
   },
   "source": [
    "In the above code, the variable `total` is used to store the accumulated result. During the loop, the value of the loop variable `i` will be taken from 1 to 100. For each value of the variable `i`, we executed `total += i`, which is equivalent to `total = total + i`. This statement implements the accumulation operation. Therefore, when the loop ends, we output the value of the variable `total`, and its value is 5050, the result of accumulating from 1 to 100. Note that there is no indentation before the statement `print(total)`. It is not controlled by the `for-in` loop and will not be executed repeatedly.\n",
    "\n",
    "Let's write a code to sum the even numbers from 1 to 100, as shown below."
   ]
  },
  {
   "cell_type": "code",
   "execution_count": 49,
   "id": "7c013c07-d5be-4222-936c-2d52d7b47cbf",
   "metadata": {
    "tags": []
   },
   "outputs": [
    {
     "name": "stdout",
     "output_type": "stream",
     "text": [
      "2550\n"
     ]
    }
   ],
   "source": [
    "total = 0\n",
    "for i in range(1, 101):\n",
    "    if i % 2 == 0:\n",
    "        total += i\n",
    "print(total)"
   ]
  },
  {
   "cell_type": "markdown",
   "id": "60044606-4687-46b0-a7e0-7423017a9213",
   "metadata": {
    "tags": []
   },
   "source": [
    "> **Explanation**: In the above `for-in` loop, we use a branch structure to determine whether the loop variable `i` is an even number.\n",
    "\n",
    "We can also modify the parameters of the `range` function, change the starting value and span to `2`, and use simpler code to achieve the sum of even numbers from 1 to 100."
   ]
  },
  {
   "cell_type": "code",
   "execution_count": null,
   "id": "a793c3d4-cf58-4ba6-a0bc-343e1fb6a401",
   "metadata": {
    "tags": []
   },
   "outputs": [],
   "source": [
    "total = 0\n",
    "for i in range(2, 101, 2):\n",
    "    total += i\n",
    "print(total)"
   ]
  },
  {
   "cell_type": "markdown",
   "id": "0d6e9706-83be-488e-a6b2-0e2f52d80533",
   "metadata": {
    "tags": []
   },
   "source": [
    "Of course, a simpler way is to use Python's built-in `sum` function to sum, so we can save even the loop structure."
   ]
  },
  {
   "cell_type": "code",
   "execution_count": 25,
   "id": "f56a63e2-fd5c-4b5f-ac93-264825542da0",
   "metadata": {
    "tags": []
   },
   "outputs": [
    {
     "name": "stdout",
     "output_type": "stream",
     "text": [
      "2550\n"
     ]
    }
   ],
   "source": [
    "print(sum(range(2, 101, 2)))"
   ]
  },
  {
   "cell_type": "markdown",
   "id": "f88d5fb9-2638-4c9e-8e89-17fd18f68e5f",
   "metadata": {
    "tags": []
   },
   "source": [
    "### while loop\n",
    "\n",
    "If you want to construct a loop structure but you are not sure how many times the loop will repeat, we recommend using a while loop. The while loop controls the loop through a Boolean value or an expression that can produce a Boolean value. When the Boolean value or expression evaluates to True, the statements in the loop body (the code block with the same indentation under the while statement) are executed repeatedly. When the expression evaluates to False, the loop ends.\n",
    "\n",
    "Next, we use the while loop to sum the integers from 1 to 100. The code is as follows."
   ]
  },
  {
   "cell_type": "code",
   "execution_count": 27,
   "id": "480a38ac-0d32-4308-893f-8240d845e13d",
   "metadata": {
    "tags": []
   },
   "outputs": [
    {
     "name": "stdout",
     "output_type": "stream",
     "text": [
      "5050\n"
     ]
    }
   ],
   "source": [
    "\n",
    "\"\"\"\n",
    "Sum of integers from 1 to 100\n",
    "\n",
    "\"\"\"\n",
    "total = 0\n",
    "i = 1\n",
    "while i <= 100:\n",
    "    total += i\n",
    "    i += 1\n",
    "print(total)\n"
   ]
  },
  {
   "cell_type": "markdown",
   "id": "7ab79f09-82d6-4529-9a8d-72b5675c92bf",
   "metadata": {
    "tags": []
   },
   "source": [
    "Compared to the `for-in` loop, in the above code, we add a variable `i` before the loop starts. We use this variable to control the loop, so the condition `i <= 100` is given after `while`. In the loop body of `while`, in addition to accumulation, we also need to increment the value of the variable `i`, so we add the statement `i += 1`, so that the value of `i` will be 1, 2, 3, ..., until 101. When `i` becomes 101, the condition of the `while` loop is no longer true, and the code will leave the `while` loop. At this time, we output the value of the variable `total`, which is the sum of 1 to 100, 5050.\n",
    "\n",
    "If we want to sum even numbers from 1 to 100, we can modify the above code slightly."
   ]
  },
  {
   "cell_type": "code",
   "execution_count": 31,
   "id": "cb1dabf1-6f86-49a7-9625-aff8e6a41e73",
   "metadata": {
    "tags": []
   },
   "outputs": [
    {
     "name": "stdout",
     "output_type": "stream",
     "text": [
      "2550\n"
     ]
    }
   ],
   "source": [
    "total = 0\n",
    "i = 2\n",
    "while i <= 100:\n",
    "    total += i\n",
    "    i += 2\n",
    "print(total)\n"
   ]
  },
  {
   "cell_type": "markdown",
   "id": "d07591eb-c9d1-4342-84f1-24bf3a4d777c",
   "metadata": {
    "tags": []
   },
   "source": [
    "### break and continue\n",
    "\n",
    "What happens if we set the condition of the while loop to True, that is, make the condition always true? Let's look at the following code, which still uses the while loop structure to calculate the sum of even numbers from 1 to 100."
   ]
  },
  {
   "cell_type": "code",
   "execution_count": null,
   "id": "95961ea1-c34b-4f37-838e-739c8091d45e",
   "metadata": {
    "tags": []
   },
   "outputs": [],
   "source": [
    "```python\n",
    "\"\"\"\n",
    "Sum of even numbers from 1 to 100\n",
    "\n",
    "Version: 1.4\n",
    "Author: Luo Hao\n",
    "\"\"\"\n",
    "total = 0\n",
    "i = 2\n",
    "while True:\n",
    "    total += i\n",
    "    i += 2\n",
    "    if i > 100:\n",
    "        break\n",
    "print(total) \n",
    "```"
   ]
  },
  {
   "cell_type": "markdown",
   "id": "848d3385-62fe-4dde-adea-e492ef078085",
   "metadata": {
    "tags": []
   },
   "source": [
    "In the above code, `while True` is used to construct a loop with a condition that is always true, which means that the loop will not end without special treatment. This is what we often call an \"infinite loop\". In order to stop the loop after the value of `i` exceeds 100, we use the `break` keyword, which terminates the execution of the loop structure. It should be noted that `break` can only terminate the loop it is in. This is something that needs to be paid attention to when using nested loop structures. We will talk about what a nested loop structure is later. In addition to `break`, there is another keyword `continue` that can be used in the loop structure. It can be used to abandon the subsequent code of this loop and directly let the loop enter the next round. The code is shown below."
   ]
  },
  {
   "cell_type": "code",
   "execution_count": 33,
   "id": "995c6829-72b3-4ef2-970a-d11a595822a7",
   "metadata": {
    "tags": []
   },
   "outputs": [
    {
     "name": "stdout",
     "output_type": "stream",
     "text": [
      "2550\n"
     ]
    }
   ],
   "source": [
    "\n",
    "\"\"\"\n",
    "Sum of even numbers from 1 to 100\n",
    "\n",
    "Version: 1.5\n",
    "Author: Luo Hao\n",
    "\"\"\"\n",
    "total = 0\n",
    "for i in range(1, 101):\n",
    "    if i % 2 != 0:\n",
    "        continue\n",
    "    total += i\n",
    "print(total)\n"
   ]
  },
  {
   "cell_type": "markdown",
   "id": "d6109fb1-1abc-45db-8392-a564d4899dab",
   "metadata": {
    "tags": []
   },
   "source": [
    "> **Note**: The code above uses the `continue` keyword to skip the case where `i` is an odd number. Only when `i` is an even number will it execute to `total += i`.\n",
    "\n",
    "### Nested loop structure\n",
    "\n",
    "Like branch structures, loop structures can also be nested, that is, loop structures can be constructed within loop structures. The following example demonstrates how to output a multiplication table (multiplication table) through nested loops."
   ]
  },
  {
   "cell_type": "code",
   "execution_count": 37,
   "id": "c55d573f-d388-4403-a89a-75462cb3e73e",
   "metadata": {
    "tags": []
   },
   "outputs": [
    {
     "name": "stdout",
     "output_type": "stream",
     "text": [
      "1×1=1\t\n",
      "2×1=2\t2×2=4\t\n",
      "3×1=3\t3×2=6\t3×3=9\t\n",
      "4×1=4\t4×2=8\t4×3=12\t4×4=16\t\n",
      "5×1=5\t5×2=10\t5×3=15\t5×4=20\t5×5=25\t\n",
      "6×1=6\t6×2=12\t6×3=18\t6×4=24\t6×5=30\t6×6=36\t\n",
      "7×1=7\t7×2=14\t7×3=21\t7×4=28\t7×5=35\t7×6=42\t7×7=49\t\n",
      "8×1=8\t8×2=16\t8×3=24\t8×4=32\t8×5=40\t8×6=48\t8×7=56\t8×8=64\t\n",
      "9×1=9\t9×2=18\t9×3=27\t9×4=36\t9×5=45\t9×6=54\t9×7=63\t9×8=72\t9×9=81\t\n"
     ]
    }
   ],
   "source": [
    "\"\"\"\n",
    "Print multiplication table\n",
    "\n",
    "Version: 1.0\n",
    "Author: Luo Hao\n",
    "\"\"\"\n",
    "for i in range(1, 10):\n",
    "    for j in range(1, i + 1):\n",
    "        print(f'{i}×{j}={i * j}', end='\\t')\n",
    "    print()"
   ]
  },
  {
   "cell_type": "markdown",
   "id": "579e4889-70cb-4d8f-8811-a9a639431868",
   "metadata": {
    "tags": []
   },
   "source": [
    "In the above code, the for-in loop is used in the loop body of the for-in loop. The outer loop is used to control the output of the i-th row, while the inner loop is used to control the output of the j-th column in a row. Obviously, the output of the inner for-in loop is a whole row in the multiplication table. So when the inner loop is completed, we use a print() to achieve the effect of line break, so that the following output starts on a new line. The final output is as follows.\n",
    "\n",
    "```\n",
    "1×1=1\t\n",
    "2×1=2\t2×2=4\t\n",
    "3×1=3\t3×2=6\t3×3=9\t\n",
    "4×1=4\t4×2=8\t4×3=12\t4×4=16\t\n",
    "5×1=5\t5×2=10\t5×3=15\t5×4=20\t5×5=25\t\n",
    "6×1=6\t6×2=12\t6×3=18\t6×4=24\t6×5=30\t6×6=36\t\n",
    "7×1=7\t7×2=14\t7×3=21\t7×4=28\t7×5=35\t7×6=42\t7×7=49\t\n",
    "8×1=8\t8×2=16\t8×3=24\t8×4=32\t8×5=40\t8×6=48\t8×7=56\t8×8=64\t\n",
    "9×1=9\t9×2=18\t9×3=27\t9×4=36\t9×5=45\t9×6=54\t9×7=63\t9×8=72\t9×9=81\n",
    "```\n",
    "\n",
    "### Application of loop structure\n",
    "\n",
    "#### Example 1: Determine prime numbers\n",
    "\n",
    "Requirements: Enter a positive integer greater than 1 and determine whether it is a prime number.\n",
    "\n",
    "> **Tip**: A prime number is an integer greater than 1 that can only be divided by 1 and itself. For example, for a positive integer $\\small{n}$, we can determine whether it is a prime number by looking for factors of $\\small{n}$ between 2 and $\\small{n - 1}$. Of course, the loop does not have to start from 2 and end at $\\small{n - 1}$, because for positive integers greater than 1, the factors should appear in pairs, so the loop can end when it reaches $\\small{\\sqrt{n}}$."
   ]
  },
  {
   "cell_type": "code",
   "execution_count": 39,
   "id": "37c650ab-cdb8-421b-bbac-e796a34f85db",
   "metadata": {
    "tags": []
   },
   "outputs": [
    {
     "name": "stdin",
     "output_type": "stream",
     "text": [
      "Please enter a positive integer:  9899\n"
     ]
    },
    {
     "name": "stdout",
     "output_type": "stream",
     "text": [
      "9899 is not a prime number\n"
     ]
    }
   ],
   "source": [
    "\"\"\"\n",
    "Enter a positive integer greater than 1 to determine whether it is a prime number.\n",
    "\n",
    "\"\"\"\n",
    "num = int(input('Please enter a positive integer: '))\n",
    "end = int(num ** 0.5)\n",
    "is_prime = True\n",
    "for i in range(2, end + 1):\n",
    "    if num % i == 0:\n",
    "        is_prime = False\n",
    "        break\n",
    "if is_prime:\n",
    "    print(f'{num} is a prime number')\n",
    "else:\n",
    "    print(f'{num} is not a prime number')"
   ]
  },
  {
   "cell_type": "markdown",
   "id": "1694573e-fb93-40b9-9c16-81593d29cd54",
   "metadata": {
    "tags": []
   },
   "source": [
    "> **Explanation**: In the above code, we use the Boolean variable `is_prime`. We first assign it to `True`, assuming that `num` is a prime number; next, we look for factors of `num` in the range of 2 to `num ** 0.5`. If factors of `num` are found, then it must not be a prime number. At this time, we assign `is_prime` to `False` and use the `break` keyword to terminate the loop structure; finally, we give different outputs depending on whether the value of `is_prime` is `True` or `False`.\n",
    "\n",
    "#### Example 2: Greatest common divisor\n",
    "\n",
    "Requirements: Enter two positive integers greater than 0 and find the greatest common divisor of the two numbers.\n",
    "\n",
    "> **Hint**: The greatest common divisor of two numbers is the largest number among the common factors of the two numbers."
   ]
  },
  {
   "cell_type": "code",
   "execution_count": 41,
   "id": "f81683da-c5f1-4952-ba99-4c295ee54674",
   "metadata": {
    "tags": []
   },
   "outputs": [
    {
     "name": "stdin",
     "output_type": "stream",
     "text": [
      "x =  98\n",
      "y =  98\n"
     ]
    },
    {
     "name": "stdout",
     "output_type": "stream",
     "text": [
      "Greatest common divisor: 98\n"
     ]
    }
   ],
   "source": [
    "\"\"\"\n",
    "Enter two positive integers to find their greatest common divisor\n",
    "\n",
    "\"\"\"\n",
    "x = int(input('x = '))\n",
    "y = int(input('y = '))\n",
    "for i in range(x, 0, -1):\n",
    "    if x % i == 0 and y % i == 0:\n",
    "        print(f'Greatest common divisor: {i}')\n",
    "        break"
   ]
  },
  {
   "cell_type": "markdown",
   "id": "8482a39c-8e60-43cb-87ff-0a04b3bb280d",
   "metadata": {
    "tags": []
   },
   "source": [
    "> **Explanation**: In the above code, the loop variable values ​​of the `for-in` loop are from large to small, so the factor `i` that we find can divide both `x` and `y` is the greatest common divisor of `x` and `y`, and we use `break` to terminate the loop. If `x` and `y` are coprime, the loop will execute until `i` becomes 1, because 1 is a factor of all positive integers, and the greatest common divisor of `x` and `y` is 1.\n",
    "\n",
    "The above code is not efficient in finding the greatest common divisor. If the value of `x` is `999999999998` and the value of `y` is `9999999999999`, it is obvious that the two numbers are coprime and the greatest common divisor is 1. However, if we use the above code, the loop will repeat `9999999999998` times, which is usually unacceptable. We can use the Euclidean algorithm to find the greatest common divisor, which can help us get the desired result faster. The code is shown below."
   ]
  },
  {
   "cell_type": "code",
   "execution_count": 45,
   "id": "fe2f4964-60d0-4951-90be-20c77ac61269",
   "metadata": {
    "tags": []
   },
   "outputs": [
    {
     "name": "stdin",
     "output_type": "stream",
     "text": [
      "x =  16\n",
      "y =  4\n"
     ]
    },
    {
     "name": "stdout",
     "output_type": "stream",
     "text": [
      "Greatest common divisor: 4\n"
     ]
    }
   ],
   "source": [
    "\n",
    "\"\"\"\n",
    "Enter two positive integers to find their greatest common divisor\n",
    "\n",
    "Version: 1.1\n",
    "Author: Luo Hao\n",
    "\"\"\"\n",
    "x = int(input('x = '))\n",
    "y = int(input('y = '))\n",
    "while y % x != 0:\n",
    "    x, y = y % x, x\n",
    "print(f'Greatest common divisor: {x}')\n"
   ]
  },
  {
   "cell_type": "markdown",
   "id": "2184cf5d-fad7-4b39-ac4a-ecabaf16aa7a",
   "metadata": {
    "tags": []
   },
   "source": [
    "> **Explanation**: The methods and steps to solve a problem can be called an algorithm. For the same problem, we can design different algorithms. Different algorithms will have differences in storage space usage and execution efficiency, and these differences represent the advantages and disadvantages of the algorithms. You can compare the above two paragraphs to understand why we say that the Euclidean algorithm is a better choice. In the above code, the statement `x, y = y % x, x` means assigning the value of `y % x` to `x`, and assigning the original value of `x` to `y`.\n",
    "\n",
    "#### Example 3: Guess the number game\n",
    "\n",
    "Requirements: The computer generates a random number between 1 and 100, and the player enters the number he or she guesses. The computer gives the corresponding prompt information \"bigger\", \"smaller\" or \"correct guess\". If the player guesses the number correctly, the computer prompts the user how many times he or she has guessed, and the game ends. Otherwise, the game continues.\n",
    "\n",
    "```python\n",
    "\"\"\"\n",
    "Guess the number game\n",
    "\n",
    "Version: 1.0\n",
    "Author: Luo Hao\n",
    "\"\"\"\n",
    "import random\n",
    "\n",
    "answer = random.randrange(1, 101)\n",
    "counter = 0\n",
    "while True:\n",
    "    counter += 1\n",
    "    num = int(input('Please enter: '))\n",
    "    if num < answer:\n",
    "        print('Bigger.')\n",
    "    elif num > answer:\n",
    "        print('Smaller.')\n",
    "    else:\n",
    "        print('Guessed it right.')\n",
    "        break\n",
    "print(f'You guessed {counter} times in total.')\n",
    "```\n",
    "\n",
    "> **Explanation**: The above code uses `import random` to import the `random` module of the Python standard library. The `randrange` function of this module helps us generate random numbers in the range of 1 to 100 (excluding 100). The variable `counter` is used to record the number of times the loop is executed, that is, how many times the user guessed in total. The value of `counter` will increase by 1 every time the loop is executed.\n",
    "\n",
    "### Summarize\n",
    "\n",
    "After learning the branching and looping structures in Python, we can solve many practical problems. Through this lesson, everyone should have learned that the `for` and `while` keywords can be used to construct loop structures. **If we know the number of times the loop structure is repeated in advance, we usually use **`for`** loop**; **If the number of times the loop structure is repeated is uncertain, we can use **`while`** loop**. In addition, we can **use **`break`** to terminate the loop** in the loop structure, **and we can also use **`continue`** keywords in the loop structure to let the loop structure directly enter the next round**."
   ]
  },
  {
   "cell_type": "markdown",
   "id": "781be1fd-aacb-4314-9dae-a667f3f793a0",
   "metadata": {},
   "source": []
  }
 ],
 "metadata": {
  "kernelspec": {
   "display_name": "Python 3 (ipykernel)",
   "language": "python",
   "name": "python3"
  },
  "language_info": {
   "codemirror_mode": {
    "name": "ipython",
    "version": 3
   },
   "file_extension": ".py",
   "mimetype": "text/x-python",
   "name": "python",
   "nbconvert_exporter": "python",
   "pygments_lexer": "ipython3",
   "version": "3.11.7"
  }
 },
 "nbformat": 4,
 "nbformat_minor": 5
}
