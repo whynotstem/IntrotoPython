{
 "cells": [
  {
   "cell_type": "markdown",
   "id": "c87fcf1c-bc67-43b9-b288-882e9ceb8d2f",
   "metadata": {},
   "source": [
    "## Common data structures: tuples\n",
    "\n",
    "In the previous two lessons, we explained the list in Python, which is a container data type. Through list type variables, we can save multiple data and perform batch operations on data through loops. Of course, there are other container data types in Python. Next, we will explain another container data type, which is called tuple.\n",
    "\n",
    "### Tuple definition and operation\n",
    "\n",
    "In Python, a tuple is also a sequence of multiple elements in a certain order. The difference between a tuple and a list is that a tuple is an immutable type, which means that once a variable of the tuple type is defined, the elements in it cannot be added or deleted, and the values of the elements cannot be modified. If you try to modify an element in a tuple, a TypeError error will be raised, causing the program to crash. A literal syntax such as (x, y, z) is usually used to define a tuple. The operators supported by the tuple type are the same as those of a list. Let's take a look at the following code."
   ]
  },
  {
   "cell_type": "code",
   "execution_count": 6,
   "id": "97e0fd4d-2a4c-46c4-89c2-75c23f6ddd59",
   "metadata": {
    "tags": []
   },
   "outputs": [
    {
     "name": "stdout",
     "output_type": "stream",
     "text": [
      "<class 'tuple'>\n",
      "<class 'tuple'>\n",
      "3\n",
      "4\n",
      "35\n",
      "98\n",
      "Houston, Texas\n",
      "('Moe Jangda', 45)\n",
      "('Moe Jangda', 'Houston, Texas')\n",
      "35\n",
      "12\n",
      "98\n",
      "True\n",
      "False\n",
      "True\n",
      "(35, 12, 98, 'Moe Jangda', 45, True, 'Houston, Texas')\n",
      "False\n",
      "False\n",
      "False\n"
     ]
    }
   ],
   "source": [
    "# Define a triple\n",
    "t1 = (35, 12, 98)\n",
    "# Define a quad\n",
    "t2 = ('Moe Jangda', 45, True, 'Houston, Texas')\n",
    "\n",
    "# Check the type of the variable\n",
    "print(type(t1))  # <class 'tuple'>\n",
    "print(type(t2))  # <class 'tuple'>\n",
    "\n",
    "# Check the number of elements in the tuple\n",
    "print(len(t1)) # 3\n",
    "print(len(t2))  # 4\n",
    "\n",
    "# Indexing\n",
    "print(t1[0])    # 35\n",
    "print(t1[2])    # 98\n",
    "print(t2[-1]) # Houston, Texas\n",
    "\n",
    "# Slice operations\n",
    "print(t2[:2]) # ('Moe Jangda', 43)\n",
    "print(t2[::3]) # ('Moe Jangda', 'Chengdu, Sichuan')\n",
    "\n",
    "# Loop through the elements in a tuple\n",
    "for item in t1:\n",
    "    print(item)\n",
    "\n",
    "# Membership Operation\n",
    "print(12 in t1)         # True\n",
    "print(99 in t1)         # False\n",
    "print('Moe' not in t2)  # True\n",
    "\n",
    "# Concatenation operation\n",
    "t3 = t1 + t2\n",
    "print(t3) # (35, 12, 98, 'Moe Jangda', 43, True, 'Houston, Texas')\n",
    "\n",
    "# Comparison operations\n",
    "print(t1 == t3)            # False\n",
    "print(t1 >= t3)            # False\n",
    "print(t1 <= (35, 11, 99)) # False"
   ]
  },
  {
   "cell_type": "markdown",
   "id": "e008596a-0995-4f6f-a2c0-de97b0ee1ac9",
   "metadata": {},
   "source": [
    "If there are two elements in a tuple, we call it a two-tuple; if there are five elements in a tuple, we call it a five-tuple. It should be noted that `()` represents an empty tuple, but if there is only one element in a tuple, a comma is required, otherwise `()` is not a literal syntax representing a tuple, but a parenthesis that changes the priority of operations, so `('hello', )` and `(100, )` are tuples, while `('hello')` and `(100)` are just strings and integers. We can verify this with the following code.\n",
    "\n",
    "```python\n",
    "a = ()\n",
    "print(type(a))  # <class 'tuple'>\n",
    "b = ('hello')\n",
    "print(type(b))  # <class 'str'>\n",
    "c = (100)\n",
    "print(type(c))  # <class 'int'>\n",
    "d = ('hello', )\n",
    "print(type(d))  # <class 'tuple'>\n",
    "and = (100, )\n",
    "print(type(e))  # <class 'tuple'>\n",
    "```\n",
    "\n",
    "### Packing and unpacking operations\n",
    "\n",
    "When we assign multiple values separated by commas to a variable, the multiple values are packed into a tuple type; when we assign a tuple to multiple variables, the tuple is unpacked into multiple values and then assigned to the corresponding variables separately, as shown in the following code.\n",
    "\n",
    "```python\n",
    "# Packing Operation\n",
    "a = 1, 10, 100\n",
    "print(type(a))  # <class 'tuple'>\n",
    "print(a)        # (1, 10, 100)\n",
    "# Unpacking operation\n",
    "i, j, k = a\n",
    "print(i, j, k)  # 1 10 100\n",
    "```\n",
    "\n",
    "When unpacking, if the number of unpacked elements does not correspond to the number of variables, a `ValueError` exception will be raised with the error message: `too many values to unpack` (too many unpacked values) or `not enough values to unpack` (not enough unpacked values).\n",
    "\n",
    "```python\n",
    "a = 1, 10, 100, 1000\n",
    "# i, j, k = a             # ValueError: too many values to unpack (expected 3)\n",
    "# i, j, k, l, m, n = a    # ValueError: not enough values to unpack (expected 6, got 4)\n",
    "```\n",
    "\n",
    "There is a way to solve the problem that the number of variables is less than the number of elements, which is to use the asterisk expression. Through the asterisk expression, we can let a variable receive multiple values, the code is as follows. There are two points to note: first, the variable modified by the asterisk expression will become a list with 0 or more elements; second, in the unpacking syntax, the asterisk expression can only appear once.\n",
    "\n",
    "```python\n",
    "a = 1, 10, 100, 1000\n",
    "i, j, *k = a\n",
    "print(i, j, k)        # 1 10 [100, 1000]\n",
    "i, *j, k = a\n",
    "print(i, j, k)        # 1 [10, 100] 1000\n",
    "*i, j, k = a\n",
    "print(i, j, k)        # [1, 10] 100 1000\n",
    "*i, j = a\n",
    "print(i, j)           # [1, 10, 100] 1000\n",
    "i, *j = a\n",
    "print(i, j)           # 1 [10, 100, 1000]\n",
    "i, j, k, *l = a\n",
    "print(i, j, k, l)     # 1 10 100 [1000]\n",
    "i, j, k, l, *m = a\n",
    "print(i, j, k, l, m)  # 1 10 100 1000 []\n",
    "```\n",
    "\n",
    "It should be noted that the unpacking syntax is valid for all sequences, which means that the lists we talked about before, the range sequences constructed by the `range` function, and even the strings can all use the unpacking syntax. You can try running the following code to see what results will appear.\n",
    "\n",
    "```python\n",
    "a, b, *c = range(1, 10)\n",
    "print(a, b, c)\n",
    "a, b, c = [1, 10, 100]\n",
    "print(a, b, c)\n",
    "a, *b, c = 'hello'\n",
    "print(a, b, c)\n",
    "```\n",
    "\n",
    "### Swapping variable values\n",
    "\n",
    "Swapping the values of variables is an operation that is often used when writing code. However, in many programming languages, swapping the values of two variables requires the use of an intermediate variable. If an intermediate variable is not used, it is necessary to use more obscure bit operations to achieve it. In Python, swapping the values of two variables `a` and `b` only requires the use of the following code.\n",
    "\n",
    "```python\n",
    "a, b = b, a\n",
    "```\n",
    "\n",
    "Similarly, if you want to swap the values of three variables `a`, `b`, and `c`, that is, assign the value of `b` to `a`, the value of `c` to `b`, and the value of `a` to `c`, you can do the same.\n",
    "\n",
    "```python\n",
    "a, b, c = b, c, a\n",
    "```\n",
    "\n",
    "It should be noted that the above operation does not use packing and unpacking syntax. Python's bytecode instructions have instructions such as `ROT_TWO` and `ROT_THREE` that can directly implement this operation, which is very efficient. However, if the values of more than three variables need to be swapped in sequence, there is no direct bytecode instruction available at this time, and the exchange of values between variables needs to be completed through packing and unpacking.\n",
    "\n",
    "### Comparison of tuples and lists\n",
    "\n",
    "There is another question worth discussing here. Since Python already has a list type, why do we need a type like tuple? This question may seem a bit difficult for beginners, but it doesn't matter. Let's put forward our views first, and you can slowly experience it while learning.\n",
    "\n",
    "1. Tuples are immutable types. **Immutable types are more suitable for multi-threaded environments** because they reduce the synchronization overhead of concurrent access to variables. We will discuss this with you later when we explain concurrent programming.\n",
    "\n",
    "2. Tuples are immutable types, and usually **immutable types take longer to create than corresponding mutable types**. We can use the `timeit` function of the `timeit` module to see how long it takes to create a tuple and a list that hold the same elements. The `number` parameter of the `timeit` function represents the number of times the code is executed. In the following code, we create a list and a tuple that hold integers from `1` to `9`, respectively, and execute each operation `10000000` times to count the running time."
   ]
  },
  {
   "cell_type": "code",
   "execution_count": 8,
   "id": "ee253135-af8b-459a-9950-1dc7a079d255",
   "metadata": {
    "tags": []
   },
   "outputs": [
    {
     "name": "stdout",
     "output_type": "stream",
     "text": [
      "0.227 seconds\n",
      "0.027 seconds\n"
     ]
    }
   ],
   "source": [
    "\n",
    "import timeit\n",
    "   \n",
    "print('%.3f seconds' % timeit.timeit('[1, 2, 3, 4, 5, 6, 7, 8, 9]', number=10000000))\n",
    "print('%.3f seconds' % timeit.timeit('(1, 2, 3, 4, 5, 6, 7, 8, 9)', number=10000000))\n"
   ]
  },
  {
   "cell_type": "code",
   "execution_count": 12,
   "id": "0604d7e8-4b11-4593-90bd-83cdb6fd09e9",
   "metadata": {
    "tags": []
   },
   "outputs": [
    {
     "name": "stdout",
     "output_type": "stream",
     "text": [
      "20.1 µs ± 81.5 ns per loop (mean ± std. dev. of 7 runs, 10,000 loops each)\n"
     ]
    }
   ],
   "source": [
    "%timeit [x**2 for x in range(1000)]"
   ]
  },
  {
   "cell_type": "markdown",
   "id": "14533ede-c1a8-443e-90bb-b44452b4d658",
   "metadata": {},
   "source": [
    "   Output:\n",
    "\n",
    "   ```\n",
    "   0.635 sec\n",
    "   0.078 sec\n",
    "   ```\n",
    "\n",
    "   > **Note**: The execution results of the above code vary depending on the software and hardware system. On my current computer, the time to execute `10000000` times to create a list is `0.635` seconds, while the time to execute `10000000` times to create a tuple is `0.078` seconds. Obviously, creating a tuple is faster and the time difference between the two is an order of magnitude. You can execute this code on your own computer and post your execution results in the comment area to see whose computer is better.\n",
    "\n",
    "Of course, tuples and lists in Python can be converted to each other, and we can do this with the following code.\n",
    "\n",
    "```python\n",
    "infos = ('Moe Jangda', 43, True, 'Houston Texas')\n",
    "# Convert tuples to lists\n",
    "print(list(infos)) # ['Moe Jangda', 43, True, 'Sichuan Chengdu']\n",
    "\n",
    "frts = ['apple', 'banana', 'orange']\n",
    "# Convert a list into a tuple\n",
    "print(tuple(frts))  # ('apple', 'banana', 'orange')\n",
    "```\n",
    "\n",
    "### Summarize\n",
    "\n",
    "**Lists and tuples are both container-type data types**, that is, a variable can store multiple data, and they are both ordered containers that organize elements in a certain order. **Lists are mutable data types**, **tuples are immutable data types**, so lists can add elements, delete elements, clear elements, and reverse the order, but these operations are not valid for tuples. Both lists and tuples can support operations such as **concatenation operations**, **member operations**, **index operations**, and **slice operations**. The string type we will talk about later also supports these operations, because a string is a sequence of characters in a certain order, and there is no difference between the three in this regard. We **recommend that you use the generative syntax of lists to create lists**, which is not only easy to use but also very efficient, and is a very distinctive syntax in the Python language."
   ]
  },
  {
   "cell_type": "code",
   "execution_count": null,
   "id": "1c2fce0c-9b96-4f49-b059-6ec1957b1b23",
   "metadata": {},
   "outputs": [],
   "source": []
  }
 ],
 "metadata": {
  "kernelspec": {
   "display_name": "Python 3 (ipykernel)",
   "language": "python",
   "name": "python3"
  },
  "language_info": {
   "codemirror_mode": {
    "name": "ipython",
    "version": 3
   },
   "file_extension": ".py",
   "mimetype": "text/x-python",
   "name": "python",
   "nbconvert_exporter": "python",
   "pygments_lexer": "ipython3",
   "version": "3.11.7"
  }
 },
 "nbformat": 4,
 "nbformat_minor": 5
}
